{
 "cells": [
  {
   "cell_type": "code",
   "execution_count": 1,
   "metadata": {},
   "outputs": [],
   "source": [
    "import pandas as pd\n",
    "import numpy as np"
   ]
  },
  {
   "cell_type": "code",
   "execution_count": 3,
   "metadata": {},
   "outputs": [],
   "source": [
    "# open data_ps.declbodies.train file\n",
    "\n",
    "DECLBODIES_FILENAME = 'parallel-corpus/data_ps.declbodies.train'\n",
    "\n",
    "with open(DECLBODIES_FILENAME, 'r') as f:\n",
    "    declbodies = f.readlines()"
   ]
  },
  {
   "cell_type": "code",
   "execution_count": 5,
   "metadata": {},
   "outputs": [
    {
     "data": {
      "text/plain": [
       "[\"def get_flashed_messages(with_categories=False, category_filter=[]): DCNL  DCSP flashes = _request_ctx_stack.top.flashes DCNL DCSP if (flashes is None): DCNL DCSP  DCSP _request_ctx_stack.top.flashes = flashes = (session.pop('_flashes') if ('_flashes' in session) else []) DCNL DCSP if category_filter: DCNL DCSP  DCSP flashes = list(filter((lambda f: (f[0] in category_filter)), flashes)) DCNL DCSP if (not with_categories): DCNL DCSP  DCSP return [x[1] for x in flashes] DCNL DCSP return flashes\\n\",\n",
       " \"def resource_patch(context, data_dict): DCNL  DCSP _check_access('resource_patch', context, data_dict) DCNL DCSP show_context = {'model': context['model'], 'session': context['session'], 'user': context['user'], 'auth_user_obj': context['auth_user_obj']} DCNL DCSP resource_dict = _get_action('resource_show')(show_context, {'id': _get_or_bust(data_dict, 'id')}) DCNL DCSP patched = dict(resource_dict) DCNL DCSP patched.update(data_dict) DCNL DCSP return _update.resource_update(context, patched)\\n\"]"
      ]
     },
     "execution_count": 5,
     "metadata": {},
     "output_type": "execute_result"
    }
   ],
   "source": [
    "declbodies[:2]"
   ]
  },
  {
   "cell_type": "code",
   "execution_count": 7,
   "metadata": {},
   "outputs": [
    {
     "data": {
      "text/plain": [
       "109108"
      ]
     },
     "execution_count": 7,
     "metadata": {},
     "output_type": "execute_result"
    }
   ],
   "source": [
    "len(declbodies)"
   ]
  },
  {
   "cell_type": "code",
   "execution_count": 8,
   "metadata": {},
   "outputs": [],
   "source": [
    "import ast"
   ]
  },
  {
   "cell_type": "code",
   "execution_count": 25,
   "metadata": {},
   "outputs": [],
   "source": [
    "import re\n",
    "\n",
    "def prepare_for_parse(declbody):\n",
    "    declbody = re.sub(' +', ' ', declbody)\n",
    "    declbody = declbody.replace(' DCNL ', '\\n')\n",
    "    declbody = declbody.replace('DCSP ', '\\t')\n",
    "    return declbody"
   ]
  },
  {
   "cell_type": "code",
   "execution_count": 26,
   "metadata": {},
   "outputs": [
    {
     "data": {
      "text/plain": [
       "\"def get_flashed_messages(with_categories=False, category_filter=[]):\\n\\tflashes = _request_ctx_stack.top.flashes\\n\\tif (flashes is None):\\n\\t\\t_request_ctx_stack.top.flashes = flashes = (session.pop('_flashes') if ('_flashes' in session) else [])\\n\\tif category_filter:\\n\\t\\tflashes = list(filter((lambda f: (f[0] in category_filter)), flashes))\\n\\tif (not with_categories):\\n\\t\\treturn [x[1] for x in flashes]\\n\\treturn flashes\\n\""
      ]
     },
     "execution_count": 26,
     "metadata": {},
     "output_type": "execute_result"
    }
   ],
   "source": [
    "prepared_declbody = prepare_for_parse(declbodies[0])\n",
    "prepared_declbody"
   ]
  },
  {
   "cell_type": "code",
   "execution_count": 27,
   "metadata": {},
   "outputs": [
    {
     "name": "stdout",
     "output_type": "stream",
     "text": [
      "def get_flashed_messages(with_categories=False, category_filter=[]):\n",
      "\tflashes = _request_ctx_stack.top.flashes\n",
      "\tif (flashes is None):\n",
      "\t\t_request_ctx_stack.top.flashes = flashes = (session.pop('_flashes') if ('_flashes' in session) else [])\n",
      "\tif category_filter:\n",
      "\t\tflashes = list(filter((lambda f: (f[0] in category_filter)), flashes))\n",
      "\tif (not with_categories):\n",
      "\t\treturn [x[1] for x in flashes]\n",
      "\treturn flashes\n",
      "\n"
     ]
    }
   ],
   "source": [
    "print(prepared_declbody)"
   ]
  },
  {
   "cell_type": "code",
   "execution_count": 28,
   "metadata": {},
   "outputs": [
    {
     "data": {
      "text/plain": [
       "<ast.Module at 0x207da326400>"
      ]
     },
     "execution_count": 28,
     "metadata": {},
     "output_type": "execute_result"
    }
   ],
   "source": [
    "ast.parse(prepared_declbody)"
   ]
  },
  {
   "cell_type": "code",
   "execution_count": null,
   "metadata": {},
   "outputs": [],
   "source": []
  }
 ],
 "metadata": {
  "kernelspec": {
   "display_name": "base",
   "language": "python",
   "name": "python3"
  },
  "language_info": {
   "codemirror_mode": {
    "name": "ipython",
    "version": 3
   },
   "file_extension": ".py",
   "mimetype": "text/x-python",
   "name": "python",
   "nbconvert_exporter": "python",
   "pygments_lexer": "ipython3",
   "version": "3.9.12"
  },
  "orig_nbformat": 4,
  "vscode": {
   "interpreter": {
    "hash": "454c98ae2731e865a69a0b883f25a1cfa6b0f63785a62bbc0572ffd435d4c747"
   }
  }
 },
 "nbformat": 4,
 "nbformat_minor": 2
}
